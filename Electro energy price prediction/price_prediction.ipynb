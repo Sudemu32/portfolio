{
 "cells": [
  {
   "cell_type": "code",
   "execution_count": 15,
   "id": "strategic-hometown",
   "metadata": {
    "scrolled": true
   },
   "outputs": [],
   "source": [
    "#библиотеки\n",
    "from sklearn.metrics import r2_score\n",
    "import pandas as pd\n",
    "import sqldf\n",
    "import catboost as cb\n",
    "import numpy as np\n",
    "from sklearn.metrics import mean_squared_error\n",
    "import matplotlib.pyplot as plt\n",
    "import matplotlib.dates\n",
    "from datetime import datetime\n",
    "\n",
    "\n",
    "#Предобработка данных\n",
    "data0 = pd.read_excel('2018.xlsx')\n",
    "data1 = pd.read_excel('2019.xlsx')\n",
    "data2 = pd.read_excel('2020.xlsx')\n",
    "\n",
    "data = pd.concat([\n",
    "    data0,\n",
    "    data1,\n",
    "    data2\n",
    "])\n",
    "\n",
    "data = data.replace(\" 00:00:00.000\", '', regex = True)\n",
    "\n",
    "data = data.drop(['ЦЗ',\"ЗСП\", \"План СЭС, МВт*ч\",'План ВЭС, МВт*ч' ,'План ВИЭ, МВт*ч' ,'Ценопринимание сверх минимальной мощности, МВт*ч'], axis=1)\n",
    "\n",
    "data = data.rename(columns={\"Дата\": \"Date\", \"Час\": \"Hour\", \"План АЭС, МВт*ч\": \"Npp_plan\", \"План ТЭС, МВт*ч\": \"Tpp_plan\", \"План ГЭС, МВт*ч\": \"Hpp_plan\", \"ТЭС мин, МВт*ч\": \"Tpp_min\", \"ТЭС макс, МВт*ч\": \"Tpp_max\", \"Потребление, МВт*ч\": \"consumption\", \"Экспорт, МВт*ч\": \"export\", \"Импорт, МВт*ч\": \"import\", \"Ценопринимающее предложение, МВт*ч\": \"Price_proposal\", \"Цена продажи, руб./МВт*ч\": \"total_price\"})\n",
    "\n",
    "data = sqldf.run('''SELECT Date, SUM(Hpp_plan) AS Hpp_plan, SUM(Npp_plan) AS Npp_plan, SUM(Tpp_plan) AS Tpp_plan, SUM(Tpp_min) AS Tpp_min, SUM(Tpp_max) AS Tpp_max, SUM(consumption) AS consumption, SUM(export) AS export, SUM(import) AS import, AVG(Price_proposal) AS price_proposal, AVG(total_price) AS total_price FROM data WHERE total_price > 100 GROUP BY Date, Hour ORDER BY Date, Hour ASC;''')\n",
    "\n",
    "test_data = sqldf.run('''SELECT * FROM data WHERE data.Date >= '2020-07-24' AND data.Date <= '2020-08-24';''')\n",
    "\n",
    "train_data = pd.concat([data,test_data]).drop_duplicates(subset=[\"Date\",\"Hpp_plan\",\"Npp_plan\",\"Tpp_plan\",\"Tpp_min\",\"Tpp_max\",\"consumption\",\"export\",\"import\",\"price_proposal\",\"total_price\"], keep=False)\n",
    "\n",
    "train_data = train_data.drop(\"index\", axis = 1)\n",
    "test_data = test_data.drop(\"index\", axis = 1)"
   ]
  },
  {
   "cell_type": "code",
   "execution_count": 16,
   "id": "acting-genetics",
   "metadata": {},
   "outputs": [],
   "source": [
    "#Разделение данных на обучающуюся и тестовую выборку\n",
    "Train_date = train_data['Date']\n",
    "Test_date = test_data['Date']\n",
    "X_train, y_train = train_data[['Hpp_plan', 'Npp_plan', 'Tpp_plan', 'Tpp_min', 'Tpp_max', 'consumption', 'export', 'import', 'price_proposal']], train_data[['total_price']] \n",
    "X_test, y_test = test_data[['Hpp_plan', 'Npp_plan', 'Tpp_plan', 'Tpp_min', 'Tpp_max', 'consumption', 'export', 'import', 'price_proposal']], test_data[['total_price']]"
   ]
  },
  {
   "cell_type": "code",
   "execution_count": null,
   "id": "derived-number",
   "metadata": {},
   "outputs": [],
   "source": [
    "#Перевод данных в нужный формат обучение модели\n",
    "train_dataset = cb.Pool(X_train, y_train) \n",
    "test_dataset = cb.Pool(X_test, y_test)\n",
    "\n",
    "model = cb.CatBoostRegressor(loss_function = \"RMSE\")\n",
    "grid = {'iterations': [100, 150, 200],\n",
    "        'learning_rate': [0.03, 0.1],\n",
    "        'depth': [2, 4, 6, 8],\n",
    "        'l2_leaf_reg': [0.2, 0.5, 1, 3]}\n",
    "model.grid_search(grid, train_dataset)"
   ]
  },
  {
   "cell_type": "code",
   "execution_count": 18,
   "id": "posted-classroom",
   "metadata": {},
   "outputs": [
    {
     "name": "stdout",
     "output_type": "stream",
     "text": [
      "Testing performance\n",
      "RMSE: 46.78\n",
      "R2: 0.96\n"
     ]
    }
   ],
   "source": [
    "#Метрики\n",
    "pred = model.predict(X_test)\n",
    "rmse = (np.sqrt(mean_squared_error(y_test, pred)))\n",
    "r2 = r2_score(y_test, pred)\n",
    "print('Testing performance')\n",
    "print('RMSE: {:.2f}'.format(rmse))\n",
    "print('R2: {:.2f}'.format(r2))\n"
   ]
  },
  {
   "cell_type": "code",
   "execution_count": 19,
   "id": "vulnerable-nitrogen",
   "metadata": {},
   "outputs": [
    {
     "data": {
      "text/plain": [
       "[<matplotlib.lines.Line2D at 0x1e063c129a0>]"
      ]
     },
     "execution_count": 19,
     "metadata": {},
     "output_type": "execute_result"
    },
    {
     "data": {
      "image/png": "[encoded data removed]",
      "text/plain": [
       "<Figure size 432x288 with 1 Axes>"
      ]
     },
     "metadata": {
      "needs_background": "light"
     },
     "output_type": "display_data"
    }
   ],
   "source": [
    "#Визуализация за последние 6 месяцев (синим актуальная цена за 6 месяцев, оранжевым предсказанные значения за последний месяц)\n",
    "tmp = sqldf.run('''SELECT Date, total_price FROM data WHERE data.Date >= '2020-02-24' AND data.Date <= '2020-08-24';''')\n",
    "date = tmp['Date'].to_numpy()\n",
    "price = tmp['total_price'].to_numpy()\n",
    "df = pd.DataFrame(pred, index=pd.to_datetime(Test_date))\n",
    "df2 = pd.DataFrame(price, index=pd.to_datetime(date))\n",
    "\n",
    "plt.plot(df2)\n",
    "plt.plot(df)\n"
   ]
  },
  {
   "cell_type": "code",
   "execution_count": null,
   "id": "tested-fellow",
   "metadata": {},
   "outputs": [],
   "source": []
  }
 ],
 "metadata": {
  "kernelspec": {
   "display_name": "Python 3",
   "language": "python",
   "name": "python3"
  },
  "language_info": {
   "codemirror_mode": {
    "name": "ipython",
    "version": 3
   },
   "file_extension": ".py",
   "mimetype": "text/x-python",
   "name": "python",
   "nbconvert_exporter": "python",
   "pygments_lexer": "ipython3",
   "version": "3.9.1"
  }
 },
 "nbformat": 4,
 "nbformat_minor": 5
}
